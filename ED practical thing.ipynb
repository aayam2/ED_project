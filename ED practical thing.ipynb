{
 "cells": [
  {
   "cell_type": "code",
   "execution_count": 7,
   "id": "02cd2dd5",
   "metadata": {},
   "outputs": [],
   "source": [
    "import numpy as np\n",
    "import matplotlib.pyplot as plt"
   ]
  },
  {
   "cell_type": "markdown",
   "id": "02a76f54",
   "metadata": {},
   "source": [
    "## Numerical Integration of the paraxial propagation equation\n",
    "\n",
    "We shall work with the following equation:\n",
    "$$\\frac{\\partial \\varepsilon}{\\partial z}=\\frac{i}{2k_0}  \\Delta_T\\varepsilon + k^2\\delta\\epsilon\\varepsilon,  \\qquad(Eq. 1)\n",
    "$$\n",
    "First though, we shall ignore the term due to the atmosphere, and work only in 1D:\n",
    "$$\n",
    "\\frac{\\partial \\varepsilon}{\\partial z}=\\frac{i}{2k_0}\\frac{\\partial ^2 \\varepsilon}{\\partial x^2}\n",
    "$$\n",
    "Using the fourier transform technique, where epsilon is a gaussian respresented as:\n",
    "$$\\varepsilon(x,y)=\\exp\\left(-\\frac{x^2+y^2}{w^2}\\right) \\implies \\varepsilon(x) = \\exp\\left(-\\frac{x^2}{w^2}\\right)$$"
   ]
  },
  {
   "cell_type": "markdown",
   "id": "fdaec6ff",
   "metadata": {},
   "source": [
    "We shall use the techniques described in the jupyter notebook starting with defining the gauss class"
   ]
  },
  {
   "cell_type": "code",
   "execution_count": 40,
   "id": "05ac0ebd",
   "metadata": {},
   "outputs": [],
   "source": [
    "class Gaussian:\n",
    "    \"\"\"Gaussian function\"\"\"\n",
    "    def __init__(self, width, amplitude, x0):\n",
    "        \"\"\"Create Gaussian with the given width and amplitude, centered at x = x0\"\"\"\n",
    "        self.width = width\n",
    "        self.amplitude = amplitude\n",
    "        self.x0 = x0\n",
    "        \n",
    "    def __call__(self, x):\n",
    "        return self.amplitude*np.exp(-(x-self.x0)**2/self.width**2)"
   ]
  },
  {
   "cell_type": "code",
   "execution_count": 41,
   "id": "e0eaf1cd",
   "metadata": {},
   "outputs": [
    {
     "name": "stdout",
     "output_type": "stream",
     "text": [
      "0.7788007830714049\n",
      "[1.00000000e+00 3.67879441e-01 1.83156389e-02 1.23409804e-04]\n"
     ]
    }
   ],
   "source": [
    "gauss = Gaussian(1, 1, 0)\n",
    "print(gauss(0.5))\n",
    "print(gauss(np.array([0, 1, 2, 3])))"
   ]
  },
  {
   "cell_type": "markdown",
   "id": "e13e19c5",
   "metadata": {},
   "source": [
    "Now we define a class to advance the solution from $t$ to $t+\\Delta t$ using the following guidelines:\n",
    "\n",
    "\n",
    "This class should create the spatial $x$ and spectral $k$ grids (consider using the function numpy.fft.fftfreq), set the parameters $D$ and $V$, and provide a way to set the initial condition. It should also define the method  ```step(self, dt)``` for evolving $u(x,t) \\to u(x,t+\\Delta t)$. This method contains the core of the algorithm, i.e., the three substeps:\n",
    "\n",
    "1) Transform $u(x,t) \\to \\hat u(k,t)$ using FFT\n",
    "\n",
    "2) Advance one time step $\\Delta t$ using Eq. (P)\n",
    "\n",
    "3) Transform $\\hat u(k,t) \\to u(x,t)$  using FFT$^{-1}$"
   ]
  },
  {
   "cell_type": "code",
   "execution_count": 42,
   "id": "4a689a17",
   "metadata": {},
   "outputs": [],
   "source": [
    "class Spectral:\n",
    "    def __init__(self, L, number_of_points, k_0, width=None):\n",
    "        self.L = L #width of initial aperture as far as I understand\n",
    "        self.n = number_of_points\n",
    "        self.D = 1j/(2*k_0)\n",
    "        self.w = width\n",
    "        \n",
    "        #now we initialize the spatial grid:\n",
    "        self.x = np.linspace(0, L, self.n)\n",
    "        self.dx = self.x[1] - self.x[0]\n",
    "        \n",
    "        #then for the k grid = 2pi np.fft.fftfreq(n, self.dx)\n",
    "        self.k = 2 * np.pi * np.fft.fftfreq(self.n, self.dx)\n",
    "        \n",
    "        \n",
    "        self.u = None\n",
    "        \n",
    "        \n",
    "    def initialize(self, function):\n",
    "        self.u = function(self.x)\n",
    "        \n",
    "    def step(self, dz):\n",
    "        u_hat = np.fft.fft(self.u)\n",
    "        \n",
    "        u_hat *= np.exp(-(self.D*self.k**2*dz))\n",
    "        \n",
    "        self.u = np.fft.ifft(u_hat)"
   ]
  },
  {
   "cell_type": "markdown",
   "id": "1a033bef",
   "metadata": {},
   "source": [
    "Write a function ```advance(spectral, T, N)``` that evolves $u(x,0) \\to u(x,T)$ using $N$ steps"
   ]
  },
  {
   "cell_type": "code",
   "execution_count": 58,
   "id": "aa849e3e",
   "metadata": {},
   "outputs": [],
   "source": [
    "def advance(spectral, T, N):\n",
    "    dt = T / N\n",
    "    for _ in range(N):\n",
    "        spectral.step(dt)\n",
    "    return spectral.u\n"
   ]
  },
  {
   "cell_type": "code",
   "execution_count": 94,
   "id": "d7a3e16a",
   "metadata": {},
   "outputs": [],
   "source": [
    "spectral = Spectral(10, 1000, 9*10**6)"
   ]
  },
  {
   "cell_type": "code",
   "execution_count": 95,
   "id": "8965505f",
   "metadata": {},
   "outputs": [],
   "source": [
    "spectral.initialize(gauss)"
   ]
  },
  {
   "cell_type": "code",
   "execution_count": 96,
   "id": "b897ef8e",
   "metadata": {},
   "outputs": [],
   "source": [
    "a = abs(advance(spectral, 10, 10))"
   ]
  },
  {
   "cell_type": "code",
   "execution_count": 102,
   "id": "ac0f8ad6",
   "metadata": {},
   "outputs": [
    {
     "data": {
      "text/plain": [
       "[<matplotlib.lines.Line2D at 0x12a633fd0>]"
      ]
     },
     "execution_count": 102,
     "metadata": {},
     "output_type": "execute_result"
    },
    {
     "data": {
      "image/png": "[encoded data removed]",
      "text/plain": [
       "<Figure size 640x480 with 1 Axes>"
      ]
     },
     "metadata": {},
     "output_type": "display_data"
    }
   ],
   "source": [
    "x = np.linspace(-10, 10, 1000)\n",
    "plt.plot(x, gauss(x))\n",
    "plt.plot(x, a)\n"
   ]
  },
  {
   "cell_type": "code",
   "execution_count": null,
   "id": "be90c6af",
   "metadata": {},
   "outputs": [],
   "source": []
  }
 ],
 "metadata": {
  "kernelspec": {
   "display_name": "Python 3 (ipykernel)",
   "language": "python",
   "name": "python3"
  },
  "language_info": {
   "codemirror_mode": {
    "name": "ipython",
    "version": 3
   },
   "file_extension": ".py",
   "mimetype": "text/x-python",
   "name": "python",
   "nbconvert_exporter": "python",
   "pygments_lexer": "ipython3",
   "version": "3.11.5"
  }
 },
 "nbformat": 4,
 "nbformat_minor": 5
}
